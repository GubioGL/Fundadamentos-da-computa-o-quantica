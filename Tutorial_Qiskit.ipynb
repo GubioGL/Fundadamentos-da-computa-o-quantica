{
  "cells": [
    {
      "cell_type": "markdown",
      "metadata": {},
      "source": [
        "# Ambiente de simulação quântica: primeiros passos no Qiskit",
        "",
        "Este tutorial em formato de notebook demonstra como criar e analisar estados de um qubit usando o [Qiskit](https://qiskit.org/). Vamos explorar:",
        "",
        "1. Construção de estados de qubits;",
        "2. Representação de estados na esfera de Bloch;",
        "3. Rotação de estados na esfera de Bloch por meio das portas quânticas X, Y, Z e Hadamard.",
        "",
        "Cada seção mistura explicações conceituais e exemplos de código comentados para facilitar a aprendizagem."
      ]
    },
    {
      "cell_type": "markdown",
      "metadata": {},
      "source": [
        "## 1. Preparando o ambiente",
        "",
        "Para executar os exemplos abaixo, é necessário ter o Qiskit instalado. Caso ainda não esteja disponível, utilize o seguinte comando em uma célula do notebook (ou em seu terminal) para instalar o pacote:",
        "",
        "```bash",
        "pip install qiskit",
        "```",
        "",
        "Nos exemplos deste notebook, importaremos os módulos principais do Qiskit necessários para criar circuitos e simular estados quânticos."
      ]
    },
    {
      "cell_type": "code",
      "execution_count": null,
      "metadata": {
        "tags": [
          "hide-output"
        ],
        "lines_to_next_cell": 1
      },
      "outputs": [],
      "source": [
        "from qiskit import QuantumCircuit\n",
        "from qiskit.quantum_info import Statevector\n",
        "from qiskit.visualization import plot_bloch_multivector\n",
        "from IPython.display import display\n",
        "\n",
        "# Configuração opcional para exibir gráficos inline (apenas em notebooks interativos)\n",
        "%matplotlib inline"
      ]
    },
    {
      "cell_type": "markdown",
      "metadata": {},
      "source": [
        "## 2. Construção de estados de qubits",
        "",
        "Um **qubit** é a unidade básica de informação da computação quântica. Ao contrário do bit clássico (0 ou 1), um qubit pode existir em uma combinação linear (superposição) dos estados `|0⟩` e `|1⟩`.",
        "",
        "### 2.1 Estado padrão |0⟩",
        "Por padrão, um circuito quântico do Qiskit inicializa todos os qubits no estado `|0⟩`. Vamos confirmar o vetor de estado correspondente:"
      ]
    },
    {
      "cell_type": "code",
      "execution_count": null,
      "metadata": {},
      "outputs": [],
      "source": [
        "# Criando um circuito com 1 qubit (inicializado em |0>)\n",
        "circuito_zero = QuantumCircuit(1)\n",
        "\n",
        "# Obtendo o vetor de estado associado ao circuito\n",
        "estado_zero = Statevector.from_instruction(circuito_zero)\n",
        "\n",
        "print(\"Vetor de estado para |0>:\")\n",
        "print(estado_zero)"
      ]
    },
    {
      "cell_type": "markdown",
      "metadata": {},
      "source": [
        "### 2.2 Criando o estado |1⟩",
        "Para levar o qubit ao estado `|1⟩`, aplicamos a **porta X**, também conhecida como \"NOT quântico\". Ela inverte `|0⟩` em `|1⟩` e vice-versa:"
      ]
    },
    {
      "cell_type": "code",
      "execution_count": null,
      "metadata": {},
      "outputs": [],
      "source": [
        "# Circuito para preparar o estado |1>\n",
        "circuito_um = QuantumCircuit(1)\n",
        "circuito_um.x(0)  # Aplica a porta X ao primeiro (e único) qubit\n",
        "\n",
        "estado_um = Statevector.from_instruction(circuito_um)\n",
        "\n",
        "print(\"Vetor de estado para |1>:\")\n",
        "print(estado_um)\n",
        "\n",
        "circuito_um.draw(\"mpl\")"
      ]
    },
    {
      "cell_type": "markdown",
      "metadata": {},
      "source": [
        "### 2.3 Criando superposições",
        "A porta **Hadamard (H)** transforma `|0⟩` em uma superposição equilibrada `(|0⟩ + |1⟩) / √2` e `|1⟩` em `(|0⟩ - |1⟩) / √2`. Vamos observar o vetor de estado resultante após aplicá-la:"
      ]
    },
    {
      "cell_type": "code",
      "execution_count": null,
      "metadata": {},
      "outputs": [],
      "source": [
        "# Circuito que prepara uma superposição usando a porta Hadamard\n",
        "circuito_superposicao = QuantumCircuit(1)\n",
        "circuito_superposicao.h(0)\n",
        "\n",
        "estado_superposicao = Statevector.from_instruction(circuito_superposicao)\n",
        "\n",
        "print(\"Vetor de estado após aplicar H em |0>:\")\n",
        "print(estado_superposicao)\n",
        "\n",
        "circuito_superposicao.draw(\"mpl\")"
      ]
    },
    {
      "cell_type": "markdown",
      "metadata": {},
      "source": [
        "## 3. Representação na esfera de Bloch",
        "",
        "A **esfera de Bloch** é uma forma geométrica de visualizar o estado de um qubit puro. Cada ponto na esfera corresponde a um vetor de estado possível. Utilizaremos a função `plot_bloch_multivector` para visualizar os estados criados anteriormente."
      ]
    },
    {
      "cell_type": "code",
      "execution_count": null,
      "metadata": {},
      "outputs": [],
      "source": [
        "import matplotlib.pyplot as plt\n",
        "\n",
        "# Visualizando |0>\n",
        "plot_bloch_multivector(estado_zero, title=\"Estado |0>\")"
      ]
    },
    {
      "cell_type": "code",
      "execution_count": null,
      "metadata": {},
      "outputs": [],
      "source": [
        "# Visualizando |1>\n",
        "plot_bloch_multivector(estado_um, title=\"Estado |1>\")"
      ]
    },
    {
      "cell_type": "code",
      "execution_count": null,
      "metadata": {},
      "outputs": [],
      "source": [
        "# Visualizando a superposição após porta H\n",
        "plot_bloch_multivector(estado_superposicao, title=\"Superposição (|0> + |1>)/√2\")"
      ]
    },
    {
      "cell_type": "markdown",
      "metadata": {},
      "source": [
        "Observe que:",
        "",
        "- O estado `|0⟩` aponta para o polo norte da esfera;",
        "- O estado `|1⟩` aponta para o polo sul;",
        "- A superposição criada pela porta Hadamard fica sobre o equador, alinhada ao eixo X positivo."
      ]
    },
    {
      "cell_type": "markdown",
      "metadata": {},
      "source": [
        "## 4. Rotações na esfera de Bloch com portas X, Y, Z e Hadamard",
        "",
        "As portas de um único qubit podem ser interpretadas como rotações na esfera de Bloch. Vamos visualizar o efeito das portas **X**, **Y**, **Z** e **H** quando aplicadas ao estado inicial `|0⟩`."
      ]
    },
    {
      "cell_type": "code",
      "execution_count": null,
      "metadata": {},
      "outputs": [],
      "source": [
        "def mostrar_rotacao(porta, descricao):\n",
        "    # Aplica uma porta ao estado |0> e exibe o resultado na esfera de Bloch\n",
        "    circuito = QuantumCircuit(1)\n",
        "    getattr(circuito, porta)(0)\n",
        "    estado = Statevector.from_instruction(circuito)\n",
        "\n",
        "    print(f\"Aplicando a porta {descricao} ao estado |0>:\")\n",
        "    print(estado)\n",
        "    display(circuito.draw(\"mpl\"))\n",
        "    return plot_bloch_multivector(estado, title=f\"Após {descricao}\")\n",
        "\n",
        "# Porta X\n",
        "bloch_x = mostrar_rotacao('x', 'X (rotação em π radianos ao redor do eixo X)')"
      ]
    },
    {
      "cell_type": "code",
      "execution_count": null,
      "metadata": {},
      "outputs": [],
      "source": [
        "# Porta Y\n",
        "bloch_y = mostrar_rotacao('y', 'Y (rotação em π radianos ao redor do eixo Y)')"
      ]
    },
    {
      "cell_type": "code",
      "execution_count": null,
      "metadata": {},
      "outputs": [],
      "source": [
        "# Porta Z\n",
        "bloch_z = mostrar_rotacao('z', 'Z (rotação em π radianos ao redor do eixo Z)')"
      ]
    },
    {
      "cell_type": "code",
      "execution_count": null,
      "metadata": {},
      "outputs": [],
      "source": [
        "# Porta Hadamard\n",
        "bloch_h = mostrar_rotacao('h', 'Hadamard (combinação de rotações em torno de X e Z)')"
      ]
    },
    {
      "cell_type": "markdown",
      "metadata": {},
      "source": [
        "### Interpretação das rotações",
        "",
        "- **Porta X:** gira o vetor de estado de `|0⟩` para `|1⟩` (polo norte para polo sul).",
        "- **Porta Y:** leva `|0⟩` ao estado `i|1⟩`, apontando para o polo sul porém com fase global relativa de `i`. Na esfera de Bloch, a fase global não altera a posição do vetor, por isso o resultado é semelhante ao da porta X.",
        "- **Porta Z:** gira o vetor em torno do eixo Z, adicionando uma fase ao estado `|1⟩`. Como o estado inicial está no polo norte, a rotação não altera sua posição na esfera, mas mudaria o estado se estivéssemos em um ponto do equador.",
        "- **Porta Hadamard:** posiciona o qubit no equador, alinhado ao eixo X positivo, criando uma superposição equilibrada.",
        "",
        "Experimente combinar portas para observar como diferentes sequências de rotações alteram o estado na esfera de Bloch!"
      ]
    }
  ],
  "metadata": {
    "kernelspec": {
      "display_name": "Python 3",
      "language": "python",
      "name": "python3"
    },
    "language_info": {
      "codemirror_mode": {
        "name": "ipython",
        "version": 3
      },
      "file_extension": ".py",
      "mimetype": "text/x-python",
      "name": "python",
      "nbconvert_exporter": "python",
      "pygments_lexer": "ipython3",
      "version": "3.10"
    }
  },
  "nbformat": 4,
  "nbformat_minor": 5
}