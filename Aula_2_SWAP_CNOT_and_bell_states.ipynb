{
  "nbformat": 4,
  "nbformat_minor": 0,
  "metadata": {
    "colab": {
      "provenance": [],
      "include_colab_link": true
    },
    "kernelspec": {
      "name": "python3",
      "display_name": "Python 3"
    },
    "language_info": {
      "name": "python"
    }
  },
  "cells": [
    {
      "cell_type": "markdown",
      "metadata": {
        "id": "view-in-github",
        "colab_type": "text"
      },
      "source": [
        "<a href=\"https://colab.research.google.com/github/GubioGL/Fundadamentos-da-computa-o-quantica/blob/main/Aula_2_SWAP_CNOT_and_bell_states.ipynb\" target=\"_parent\"><img src=\"https://colab.research.google.com/assets/colab-badge.svg\" alt=\"Open In Colab\"/></a>"
      ]
    },
    {
      "cell_type": "markdown",
      "source": [
        "# Qiskit Tutorial: SWAP and CNOT gate."
      ],
      "metadata": {
        "id": "--ghSqivD_vf"
      }
    },
    {
      "cell_type": "code",
      "execution_count": null,
      "metadata": {
        "colab": {
          "base_uri": "https://localhost:8080/"
        },
        "id": "4MhZ_Wd1D_DZ",
        "outputId": "e2e1ce3f-0840-4659-eece-2ae641d180c9"
      },
      "outputs": [
        {
          "output_type": "stream",
          "name": "stdout",
          "text": [
            "Requirement already satisfied: qiskit in /usr/local/lib/python3.12/dist-packages (2.2.1)\n",
            "Requirement already satisfied: qiskit-aer in /usr/local/lib/python3.12/dist-packages (0.17.2)\n",
            "Requirement already satisfied: matplotlib in /usr/local/lib/python3.12/dist-packages (3.10.0)\n",
            "Requirement already satisfied: rustworkx>=0.15.0 in /usr/local/lib/python3.12/dist-packages (from qiskit) (0.17.1)\n",
            "Requirement already satisfied: numpy<3,>=1.17 in /usr/local/lib/python3.12/dist-packages (from qiskit) (2.0.2)\n",
            "Requirement already satisfied: scipy>=1.5 in /usr/local/lib/python3.12/dist-packages (from qiskit) (1.16.2)\n",
            "Requirement already satisfied: dill>=0.3 in /usr/local/lib/python3.12/dist-packages (from qiskit) (0.3.8)\n",
            "Requirement already satisfied: stevedore>=3.0.0 in /usr/local/lib/python3.12/dist-packages (from qiskit) (5.5.0)\n",
            "Requirement already satisfied: typing-extensions in /usr/local/lib/python3.12/dist-packages (from qiskit) (4.15.0)\n",
            "Requirement already satisfied: psutil>=5 in /usr/local/lib/python3.12/dist-packages (from qiskit-aer) (5.9.5)\n",
            "Requirement already satisfied: python-dateutil>=2.8.0 in /usr/local/lib/python3.12/dist-packages (from qiskit-aer) (2.9.0.post0)\n",
            "Requirement already satisfied: contourpy>=1.0.1 in /usr/local/lib/python3.12/dist-packages (from matplotlib) (1.3.3)\n",
            "Requirement already satisfied: cycler>=0.10 in /usr/local/lib/python3.12/dist-packages (from matplotlib) (0.12.1)\n",
            "Requirement already satisfied: fonttools>=4.22.0 in /usr/local/lib/python3.12/dist-packages (from matplotlib) (4.60.1)\n",
            "Requirement already satisfied: kiwisolver>=1.3.1 in /usr/local/lib/python3.12/dist-packages (from matplotlib) (1.4.9)\n",
            "Requirement already satisfied: packaging>=20.0 in /usr/local/lib/python3.12/dist-packages (from matplotlib) (25.0)\n",
            "Requirement already satisfied: pillow>=8 in /usr/local/lib/python3.12/dist-packages (from matplotlib) (11.3.0)\n",
            "Requirement already satisfied: pyparsing>=2.3.1 in /usr/local/lib/python3.12/dist-packages (from matplotlib) (3.2.5)\n",
            "Requirement already satisfied: six>=1.5 in /usr/local/lib/python3.12/dist-packages (from python-dateutil>=2.8.0->qiskit-aer) (1.17.0)\n"
          ]
        }
      ],
      "source": [
        "pip install qiskit qiskit-aer matplotlib"
      ]
    },
    {
      "cell_type": "markdown",
      "source": [
        "## Swap"
      ],
      "metadata": {
        "id": "-tCiMh4hTFbs"
      }
    },
    {
      "cell_type": "markdown",
      "source": [
        "Fazendo os importes"
      ],
      "metadata": {
        "id": "qD4p-EZEEOnX"
      }
    },
    {
      "cell_type": "code",
      "source": [
        "from qiskit import QuantumCircuit, transpile\n",
        "from qiskit_aer import AerSimulator\n",
        "from qiskit.visualization import plot_histogram"
      ],
      "metadata": {
        "id": "yqVuGu1wEOLJ"
      },
      "execution_count": null,
      "outputs": []
    },
    {
      "cell_type": "code",
      "source": [
        "# Create a 2-qubit circuit with 2 classical bits for measurement\n",
        "qc = QuantumCircuit(2, 2)\n",
        "\n",
        "# Prepare state |10> (qubit 0 = 1, qubit 1 = 0)\n",
        "qc.x(0)\n",
        "\n",
        "# Draw before swap\n",
        "print(\"Circuito antes do SWAP:\")\n",
        "print(qc)"
      ],
      "metadata": {
        "colab": {
          "base_uri": "https://localhost:8080/"
        },
        "id": "R_Cp6FgBErAr",
        "outputId": "238a12bb-dfdd-4eea-95dc-52f6ab6cf957"
      },
      "execution_count": null,
      "outputs": [
        {
          "output_type": "stream",
          "name": "stdout",
          "text": [
            "Circuito antes do SWAP:\n",
            "     ┌───┐\n",
            "q_0: ┤ X ├\n",
            "     └───┘\n",
            "q_1: ─────\n",
            "          \n",
            "c: 2/═════\n",
            "          \n"
          ]
        }
      ]
    },
    {
      "cell_type": "code",
      "source": [
        "# Measure both qubits into classical bits\n",
        "qc.measure(qubit=[0,1],cbit=[0,1])\n",
        "\n",
        "print(qc)"
      ],
      "metadata": {
        "colab": {
          "base_uri": "https://localhost:8080/"
        },
        "id": "M435o0NTIG74",
        "outputId": "4e09cc12-1931-4432-fa61-e87e97aa0de6"
      },
      "execution_count": null,
      "outputs": [
        {
          "output_type": "stream",
          "name": "stdout",
          "text": [
            "     ┌───┐┌─┐\n",
            "q_0: ┤ X ├┤M├\n",
            "     └┬─┬┘└╥┘\n",
            "q_1: ─┤M├──╫─\n",
            "      └╥┘  ║ \n",
            "c: 2/══╩═══╩═\n",
            "       1   0 \n"
          ]
        }
      ]
    },
    {
      "cell_type": "code",
      "source": [
        "# Simulate\n",
        "# Inicializando a classe\n",
        "sim = AerSimulator()\n",
        "\n",
        "# Aplicando o circuito para rodar no simulador\n",
        "compiled = transpile(qc, sim)\n",
        "\n",
        "# Executando o simulador 100 vezes\n",
        "result = sim.run(compiled, shots=100).result()\n",
        "\n",
        "counts = result.get_counts()\n",
        "print('\\nCounts after swap:', counts)\n",
        "\n",
        "plot_histogram(counts)"
      ],
      "metadata": {
        "colab": {
          "base_uri": "https://localhost:8080/",
          "height": 524
        },
        "id": "6GzFuvvYHiCK",
        "outputId": "cd69c486-77cd-455c-fd8e-00a8d08e8cbd"
      },
      "execution_count": null,
      "outputs": [
        {
          "output_type": "stream",
          "name": "stdout",
          "text": [
            "\n",
            "Counts after swap: {'01': 100}\n"
          ]
        },
        {
          "output_type": "execute_result",
          "data": {
            "text/plain": [
              "<Figure size 640x480 with 1 Axes>"
            ],
            "image/png": "[encoded data removed]"
          },
          "metadata": {},
          "execution_count": 69
        }
      ]
    },
    {
      "cell_type": "markdown",
      "source": [
        "### Aplicando a porta swap"
      ],
      "metadata": {
        "id": "iH2ir5BjHi-i"
      }
    },
    {
      "cell_type": "code",
      "source": [
        "# Create a 2-qubit circuit with 2 classical bits for measurement\n",
        "qc = QuantumCircuit(2, 2)\n",
        "\n",
        "# Prepare state |10> (qubit 0 = 1, qubit 1 = 0)\n",
        "qc.x(0)\n",
        "\n",
        "# Apply SWAP between qubit 0 and 1\n",
        "qc.swap(0, 1)\n",
        "\n",
        "# Draw before swap\n",
        "print(\"Circuito Depois  do SWAP:\")\n",
        "\n",
        "# Measure both qubits into classical bits\n",
        "qc.measure(qubit=[0,1],cbit=[0,1])\n",
        "\n",
        "print(qc)"
      ],
      "metadata": {
        "colab": {
          "base_uri": "https://localhost:8080/"
        },
        "id": "jX__76-tE3f4",
        "outputId": "32b92db9-b53a-491c-bcfd-f6c03dd1a335"
      },
      "execution_count": null,
      "outputs": [
        {
          "output_type": "stream",
          "name": "stdout",
          "text": [
            "Circuito Depois  do SWAP:\n",
            "     ┌───┐   ┌─┐   \n",
            "q_0: ┤ X ├─X─┤M├───\n",
            "     └───┘ │ └╥┘┌─┐\n",
            "q_1: ──────X──╫─┤M├\n",
            "              ║ └╥┘\n",
            "c: 2/═════════╩══╩═\n",
            "              0  1 \n"
          ]
        }
      ]
    },
    {
      "cell_type": "code",
      "source": [
        "# Simulate\n",
        "# Inicializando a classe\n",
        "sim = AerSimulator()\n",
        "\n",
        "# Aplicando o circuito para rodar no simulador\n",
        "compiled = transpile(qc, sim)\n",
        "\n",
        "# Executando o simulador 1000 vezes\n",
        "result = sim.run(compiled, shots=1000).result()\n",
        "\n",
        "counts = result.get_counts()\n",
        "print('\\nCounts after swap:', counts)\n",
        "\n",
        "plot_histogram(counts)"
      ],
      "metadata": {
        "colab": {
          "base_uri": "https://localhost:8080/",
          "height": 524
        },
        "id": "MR3qTDs1ELSP",
        "outputId": "020ddf8f-898e-4cae-d464-778d4041072b"
      },
      "execution_count": null,
      "outputs": [
        {
          "output_type": "stream",
          "name": "stdout",
          "text": [
            "\n",
            "Counts after swap: {'10': 1000}\n"
          ]
        },
        {
          "output_type": "execute_result",
          "data": {
            "text/plain": [
              "<Figure size 640x480 with 1 Axes>"
            ],
            "image/png": "[encoded data removed]"
          },
          "metadata": {},
          "execution_count": 71
        }
      ]
    },
    {
      "cell_type": "markdown",
      "source": [
        "## CNOT"
      ],
      "metadata": {
        "id": "FdOkFUDFTJCj"
      }
    },
    {
      "cell_type": "code",
      "source": [
        "# Circuito com 2 qubits e 2 bits clássicos\n",
        "qc = QuantumCircuit(2, 2)\n",
        "\n",
        "# Prepara |10> → controle=1, alvo=0\n",
        "qc.x(0)          # qubit 0 = 1\n",
        "qc.cx(0, 1)      # CNOT(control=0, target=1)\n",
        "qc.measure([0,1], [0,1])\n",
        "print(qc)"
      ],
      "metadata": {
        "colab": {
          "base_uri": "https://localhost:8080/"
        },
        "id": "X9iyq_HxTkyK",
        "outputId": "279486c8-511a-41a2-8e75-b7eab05d3a90"
      },
      "execution_count": null,
      "outputs": [
        {
          "output_type": "stream",
          "name": "stdout",
          "text": [
            "     ┌───┐     ┌─┐   \n",
            "q_0: ┤ X ├──■──┤M├───\n",
            "     └───┘┌─┴─┐└╥┘┌─┐\n",
            "q_1: ─────┤ X ├─╫─┤M├\n",
            "          └───┘ ║ └╥┘\n",
            "c: 2/═══════════╩══╩═\n",
            "                0  1 \n"
          ]
        }
      ]
    },
    {
      "cell_type": "code",
      "source": [
        "# Simulate\n",
        "# Inicializando a classe\n",
        "sim = AerSimulator()\n",
        "\n",
        "# Aplicando o circuito para rodar no simulador\n",
        "compiled = transpile(qc, sim)\n",
        "\n",
        "# Executando o simulador 100 vezes\n",
        "result = sim.run(compiled, shots=100).result()\n",
        "\n",
        "counts = result.get_counts()\n",
        "print('\\nCounts after swap:', counts)\n"
      ],
      "metadata": {
        "colab": {
          "base_uri": "https://localhost:8080/"
        },
        "id": "YORXQekPTKk3",
        "outputId": "07f81b98-1d87-4849-ec3a-37d2c6662c44"
      },
      "execution_count": null,
      "outputs": [
        {
          "output_type": "stream",
          "name": "stdout",
          "text": [
            "\n",
            "Counts after swap: {'11': 100}\n"
          ]
        }
      ]
    },
    {
      "cell_type": "markdown",
      "source": [
        "## Estado de bell"
      ],
      "metadata": {
        "id": "mB7EAR2abu4r"
      }
    },
    {
      "cell_type": "code",
      "source": [
        "# Circuito com 2 qubits e 2 bits clássicos\n",
        "qc = QuantumCircuit(2, 2)\n",
        "\n",
        "# Prepara |10> → controle=1, alvo=0\n",
        "qc.h(0)          # qubit 0 = 1\n",
        "qc.cx(0, 1)      # CNOT(control=0, target=1)\n",
        "qc.measure([0,1], [0,1])\n",
        "print(qc)"
      ],
      "metadata": {
        "colab": {
          "base_uri": "https://localhost:8080/"
        },
        "id": "z-OWOCSHbwgL",
        "outputId": "e22ec048-a039-426b-be87-0e09bedca101"
      },
      "execution_count": null,
      "outputs": [
        {
          "output_type": "stream",
          "name": "stdout",
          "text": [
            "     ┌───┐     ┌─┐   \n",
            "q_0: ┤ H ├──■──┤M├───\n",
            "     └───┘┌─┴─┐└╥┘┌─┐\n",
            "q_1: ─────┤ X ├─╫─┤M├\n",
            "          └───┘ ║ └╥┘\n",
            "c: 2/═══════════╩══╩═\n",
            "                0  1 \n"
          ]
        }
      ]
    },
    {
      "cell_type": "code",
      "source": [
        "# Simulate\n",
        "# Inicializando a classe\n",
        "sim = AerSimulator()\n",
        "\n",
        "# Aplicando o circuito para rodar no simulador\n",
        "compiled = transpile(qc, sim)\n",
        "\n",
        "# Executando o simulador 100 vezes\n",
        "result = sim.run(compiled, shots=1000).result()\n",
        "\n",
        "counts = result.get_counts()\n",
        "print('\\nCounts after swap:', counts)\n",
        "plot_histogram(counts)\n"
      ],
      "metadata": {
        "colab": {
          "base_uri": "https://localhost:8080/",
          "height": 524
        },
        "id": "Hxi3z2l2cmZs",
        "outputId": "f80d73bb-0ad1-4503-bff8-ecb50fe85a73"
      },
      "execution_count": null,
      "outputs": [
        {
          "output_type": "stream",
          "name": "stdout",
          "text": [
            "\n",
            "Counts after swap: {'11': 497, '00': 503}\n"
          ]
        },
        {
          "output_type": "execute_result",
          "data": {
            "text/plain": [
              "<Figure size 640x480 with 1 Axes>"
            ],
            "image/png": "[encoded data removed]"
          },
          "metadata": {},
          "execution_count": 78
        }
      ]
    },
    {
      "cell_type": "markdown",
      "source": [
        "## Teletransporte"
      ],
      "metadata": {
        "id": "nl4bsxUxks_I"
      }
    },
    {
      "cell_type": "code",
      "source": [],
      "metadata": {
        "id": "d4nGAoyRdBDS"
      },
      "execution_count": null,
      "outputs": []
    }
  ]
}