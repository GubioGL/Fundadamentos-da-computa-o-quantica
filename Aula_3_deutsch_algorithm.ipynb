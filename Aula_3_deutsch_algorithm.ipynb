{
  "nbformat": 4,
  "nbformat_minor": 0,
  "metadata": {
    "colab": {
      "provenance": [],
      "collapsed_sections": [
        "3FtsdXJUJqDm",
        "nKteYbSEfRGX"
      ],
      "authorship_tag": "ABX9TyNnO8eQ0Evu2uFzoBY0I7/I",
      "include_colab_link": true
    },
    "kernelspec": {
      "name": "python3",
      "display_name": "Python 3"
    },
    "language_info": {
      "name": "python"
    }
  },
  "cells": [
    {
      "cell_type": "markdown",
      "metadata": {
        "id": "view-in-github",
        "colab_type": "text"
      },
      "source": [
        "<a href=\"https://colab.research.google.com/github/GubioGL/Fundadamentos-da-computa-o-quantica/blob/main/Aula_3_deutsch_algorithm.ipynb\" target=\"_parent\"><img src=\"https://colab.research.google.com/assets/colab-badge.svg\" alt=\"Open In Colab\"/></a>"
      ]
    },
    {
      "cell_type": "markdown",
      "source": [
        "# Qiskit Tutorial: Algoritmo de Deutsch."
      ],
      "metadata": {
        "id": "3dX8Mn_yF6Uz"
      }
    },
    {
      "cell_type": "markdown",
      "source": [
        "![image.png](data:image/png;base64,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)"
      ],
      "metadata": {
        "id": "6KQ6XNjqhOtt"
      }
    },
    {
      "cell_type": "markdown",
      "source": [
        "Vamos instalar as lib"
      ],
      "metadata": {
        "id": "BkE5xoAXGRlv"
      }
    },
    {
      "cell_type": "code",
      "source": [
        "#!pip install qiskit qiskit-aer"
      ],
      "metadata": {
        "id": "ts2bm1zxGTa-"
      },
      "execution_count": null,
      "outputs": []
    },
    {
      "cell_type": "markdown",
      "source": [
        "Agora iremos realizar o importe da biblioteca instalada"
      ],
      "metadata": {
        "id": "3NundTPLGXQ1"
      }
    },
    {
      "cell_type": "code",
      "source": [
        "from qiskit import QuantumCircuit\n",
        "from qiskit_aer import AerSimulator"
      ],
      "metadata": {
        "id": "KikOYUWLGGNw"
      },
      "execution_count": null,
      "outputs": []
    },
    {
      "cell_type": "markdown",
      "metadata": {
        "id": "ec7d40cc"
      },
      "source": [
        "Primeiramente, vamos definir um circuito quântico que implementa uma porta oráculo para uma das quatro funções de um bit para um bit descritas anteriormente:\n",
        "\n",
        "![image.png](data:image/png;base64,iVBORw0KGgoAAAANSUhEUgAAAxEAAACoCAYAAACfSmNGAAAABHNCSVQICAgIfAhkiAAAABl0RVh0U29mdHdhcmUAZ25vbWUtc2NyZWVuc2hvdO8Dvz4AAAAmdEVYdENyZWF0aW9uIFRpbWUAdGVyIDI4IG91dCAyMDI1IDEwOjU5OjU3XFJmDgAAIABJREFUeJzt3Xt4THf+B/D3jIgkhJA0hNoQJLGhCEIopYJQWjRYtWrVr9ptu7puVbbto90t224vuo/bPtS2tCyr7a62BCGVUFSJW+tOqXVN0pA0kdt8fn/kOUfSzGTmyJk5k5z363k8z5jzne/5zvfkM+fzmTkXi4gIiIiIiIiIXGQ1egBERERERFSzsIggIiIiIiJNWEQQEREREZEmLCKIiIiIiEgTFhFERERERKQJiwgiIiIiItKERQQREREREWnCIoKIiIiIiDRhEUFERERERJqwiCAiIiIiIk1YRBARERERkSYsIoiIiIiISBMWEUREREREpAmLCCIiIiIi0oRFBBERERERacIigoiIiIiINGERQUREREREmrCIICIiIiIiTVhEEBERERGRJiwiiIiIiIhIExYRRERERESkCYsIIiIiIiLShEUEERERERFpwiKCiIiIiIg0YRFBRERERESasIggIiIiIiJNWEQQEREREZEmLCKIiIiIiEgTFhFERERERKQJiwgiIiIiItKERQQREREREWnCIoKIiIiIiDRhEUFERERERJqwiCAiIiIiIk1YRBARERERkSYsIoiIiIiISBMWEUREREREpAmLCCIiIiIi0sRURYTFYjF6CEReg/FAdAfjgagMY4FcZaoigoiIiIiIqo9FRA1SUFCAxMREzJ8/X7c+33vvPSQkJCA/P1+3Pok84fTp04iMjERaWppufSYlJeHFF1/UrT8iT/nss88QGRmJnJwcXfo7cOAAIiIicOrUKV36I/IU5kqeYxERMXoQnmKxWFCT325SUhKuXr2Kr776Cj4+Prr0abPZkJCQgKCgIGzYsAFWK+tKs6jJ8XDr1i3ExcXh0Ucfxeuvv65bv9euXUPnzp0xc+ZMzJgxQ7d+yfvV5Hg4dOgQevfujU8//RSDBw/Wrd9XX30Va9aswe7duxESEqJbv+TdanIsAMyVPImz4AZbt27F8OHDERISgl69emHx4sXV7vONN95AWloa1q1bp1tQAIDVasXatWuxf/9+/PGPf9StXyIAEBEsXboUffr0QZMmTTB06FDs2LGjWn3abDaMHj0aISEhePXVV3UaaZmmTZtizZo1mDNnDj799FNd+yY6ceIEJk+ejJYtWyI6OhozZ85EQUFBtfq8ceMGRowYgeeff17XAgIAXn75ZbRq1QqPPPJItcdJ9EvMlWoBMRFPvN2NGzeK1WqVRx55RD766CPx8/MTAPLDDz/cdZ9btmwRq9UqixYt0nGkFa1cuVIASHJystvWQd7FE/HwwgsvCAD5y1/+ItOnTxcAEhkZWa0+X3zxRQEgx44d02mUlU2aNEkaNWokWVlZblsHeRd3x8O5c+ckLCxMWrZsKTt27JCWLVsKAPnwww/vus+ioiLp3bu3hIWFSWFhoY6jveP8+fPi4+Mjc+fOdUv/5H2YKznGXKkiFhE6stls0rp1awEgX3zxhfTo0UMACAD58ccf76rP4uJiuffeeyUsLEzy8/N1HnHF9bRq1UpiY2OltLTUbesh7+HueDh58qQAEB8fH/nxxx/VWIiJibnrPr///nsBIKNGjdJxpJWdPHlSrFarTJ061a3rIe/h7niYMGGCAJAXXnhBZs6cqcbDmjVr7rrPpUuXCgB59913dRxpZePHj5cGDRrIpUuX3Loe8g7MlapeD3OlO1hE6Cg9PV1Nmm7evCn//Oc/JTExUd5///277nPt2rUCQN544w0dR2rfwoULBUC1xks1h7vjYf78+QJA4uPjRaTsV4lBgwbJN998c9d9PvPMMwJADhw4oNcwHXr00Uelbt26cvLkSbevi4znzngoKCiQoKAgNWnavXu3jBgxQqZNm3bXiYjNZpPo6Gi555573Jo0iYgcPXpUAMjvfvc7t66HvANzpaoxV7qDRYSOZs2aJQCka9euuvXZp08fCQoKktzcXN36dCQ/P19CQ0OlRYsWUlBQ4Pb1kbHcHQ89e/YUADJt2jRd+rt165YEBATIoEGDdOnPmf379wsASUpK8sj6yFjujIfPP/9c/aY1MzNTlz6Tk5PVQwU9YdiwYQJAjh496pH1kXGYK1WNudIdPLFaR3v27AEA9OjRQ5f+Dh06hPT0dAwbNgwNGjTQpc+q+Pv7Y+jQofjf//6HL7/80u3ro9orLy8P3377LQAgLi5Olz6XLVuG/Px8PProo7r050y3bt0QERGBDRs2IDMz0yPrpNrp66+/BgB06NABwcHBuvSpnITqqXgYOXIkAGDFihUeWR/VXsyVag8WETopKSnBwYMHAQDdu3fXpc9PPvkEANCpUydd+nOFsq59+/Z5bJ1U+xw6dAglJSUA9NtRKB/WnTt31qU/Vyjr2rt3r8fWSbVPRkYGAP0K6oKCAmzevBmBgYGIjo7WpU9nlFjgvoGqg7lS7eI1RUROTg5mzpyJjh07on79+oiNjUVKSgoyMzOxePFiXL161eghVnL69GnUqVMHFosFdevWVW9CMmnSJFgsFlgsFvzf//3fXfd/4MABAECXLl1cfk1151HZUXzzzTd3PW6qvtOnT+Oxxx5D27ZtERgYiISEBPz444/4/vvvsXz5chQXFxs9xEo++OAD9e++T58+6vMRERHq8x9++OFd9W2z2bBv3z74+PhoioeUlBQMHDgQLVq0QEhICCZNmoSioiKkpKTgv//9r9PXM3EyXmlpKZYuXYqePXsiKCgIbdq0wVtvvQWbzYaVK1fi0KFDRg/Rrnbt2ql/98nJyQCAlStXqs9FRkbedd8HDx5ESUkJunXr5vJrqjuPHTt2hI+PD7799lte7tVAzJUqY65kIKOPpxIR2bNnj4SFhUl4eLhs3rxZcnNz5bPPPpNGjRpJ9+7dBYC8+eab1V6P3m83KytLUlNTJTU1VT3Gz9fXV3bs2KE+f/bs2bvuPzg4WADIuXPnXGqvxzxeuHBBAEhoaOhdj5uqZ9myZVK3bl3p16+fHDx4UHJycuTVV1+VqKgoCQsLEwCyd+/eaq9H73g4e/as+nc/ePBgASC9e/dWn0tNTb3rS6YePHhQAEjbtm1dal9cXCyTJ08WADJ16lQ5f/68XLlyRUaMGCH333+/AJCAgACn/axatUoAyJgxY+5q3FQ9169flx49eoifn58sXrxYsrOzJSMjQ9q2bSt9+/YVADJ8+HBd1qVnPJSWlqp/86tXr1bPh1i6dKn6fHUuDqCc2PnEE0+41F6veYyKihIAcvjw4bseO9095kr2MVcyjuFFxL59+6RRo0bSuHFjOXXqVIVlL7/8svrhm5qaWu11ubNmUgKjW7duuvR348YN9b3n5OQ4ba/XPObm5qptbTZbdd4C3YUlS5YIAImLi6t0wla/fv3U5Pf27dvVXpc740Hvk6o3bNigzosrxo0bJwDkD3/4Q4Xns7KypGHDhgJAEhISnPbzxRdfCADp37//XY2b7l52drZ06NBBAMi///3vCsu2bdumfk699tpruqzPXfFQ/qTq7OxsXfp8/vnnBYDMmDHDaVs95zE+Pl4ASEpKyl2Pne4OcyX7mCsZy9DDmXJycvDYY4/h5s2bmD17Ntq1a1dhufL/unXr6nZctbsox7zGxMQ4bVtUVISLFy9W2eann34CUHaXxEaNGlXZVs95bNCggXqXxytXrlTZlvS1Z88ePP/88wCAhQsXws/Pr8JyZTv26NED9erV8/j4XFVcXKweGtGhQwe7bfLz8zFlyhTce++9aNq0KRITE7Fr1y6Hfebk5AAAmjRp4nT977zzDtauXYvQ0FD89a9/rbCsSZMmCAsLAwD06tXLaV/K+q5fv+60Lelr0qRJOHbsGB566CEkJSVVWFb+UCBXtqORlH1D69at0bhxY7ttPvnkE3Tp0gV9+vTBkCFDMHfuXHUfYI+yzJWTtPWcR8aDMcyaKwHAxYsX0ahRI4eH2zFXMpahRcQbb7yBs2fPAoDd4+GUP5oePXrA39/fo2PTav/+/QAcJ02lpaU4deoU/vnPfyI+Ph6vvPJKlf0pgaEkPFXRex5btGgBALh27ZrTtqSf6dOno7i4GF27dkV8fHyl5cp27Nmzp6eHpsnRo0dx+/ZtAPbjwWaz4aGHHoK/vz8OHDiAdevW4dSpU+jTpw9SUlLs9ulq0pSZmYl58+YBAH77298iICCgwvLs7GycPn0aAOzO8S8p6/PG44xrs82bN6vnrDz55JOVliuJiNVq9fqkSYnbjh072l2+bds2LFmyBF999RXS09OxbNkyLFq0CHFxcWoc/ZKrRbXe88giwhhmypV+aerUqbh165Z6oY5fYq5kLMOKiNzcXCxbtgwAMHDgQLvJQXp6OgDv/6bp4sWLuHnzJgDgvvvus9umT58+mDx5MtLS0tQrE1RFOfHIWWXtjnls2LAhgDs7KnK/nTt3qlcAGjFiRKXl2dnZ6sljvXv39ujYtPruu+8AAD4+PnYTp5UrVyIoKAjvvfcemjZtin79+mHNmjUAyj7Y7e0slBM5AwMDq1z3smXLkJubCwB4+OGHKy1PT0+HzWaDj4+PS/OoxEJWVhZExGl70se7774LoOzbvsGDB1danpaWBqBsZ++JSzpWhxIPjoqIhQsXYseOHdi0aRMAIDw8HLGxsThz5gzWrVtn9zXK/sFZPOg9j0o8KPs7cj+z5UrlbdiwAZs3b66yDXMlYxlWROzatUud+GHDhlVaXj5p8vbAOHbsmPrY0bc5X3/9NdLT0zFjxgyX+lQC4tatW1W2c8c85uXlAUClb3HJfZSrtwD2t6OS/AKufYNuJCVp+vWvf23325zdu3cjOTkZixYtUp/r2bMnIiIicOHCBezYsaPSa5QPa+Vv0xFlHkNDQ3H//fdXWq4kTV26dHGagJVfX4MGDWCxWJy2p+rLy8vD9u3bAQCJiYmVDusD7uzsvT0W8vPzcfLkSQCOk6bg4GBYrVb4+vqqz9WtWxdA2aGv9ij7h6riwR3zqKzP27/trk3MlispcnNzsWDBAjzxxBMA4PDzl7mSsQwrIpSNBcDuzr580mRvuTc5fPgwAKBly5ZOq2FXuXoYhTvmMSsrCwAcHr9L+lO2Y1BQkN37ICjJb7du3Vw6L8BIR44cAeA4aapXrx5u376No0ePVnheKRR+/vnnSq9R3nNVx4kXFxerl9u7//77UadOnUptlKTJ1VjQcuw56ePAgQPqZ5a9X4t++ukn9ZCI8pcS9kbK4UKA42vYf/jhhzh//rx607iioiIcO3ZMvbSzPa7EgzvmUUnCuG/wHLPmSq+99hqmTp2q7hcc/RLMXMlYhhURyiELPj4++PWvf11puZI0de/eHcHBwRARjBs3zivvHKskQ1quUeyMEhglJSXqz3X26D2PIqJW9EFBQdV6D+S60tJSAI5vpKYkv3379gUAnDt3Dk899ZRnBqeRcqdqR0nTm2++iZUrV2LhwoXqcwUFBeq3VPbmQIkHZz8bK/No76S97OxsNWl64IEHAACfffaZeudfe5T1MRY8R9mGgP3jppXPNOBOPMybN0+NEW+iFNSBgYGIioqy28ZiseBXv/oVgLICesaMGSgtLcXmzZvRunVru69Rioiq4sEd86isT68vy8g5M+ZKx44dQ0ZGBiZOnOi0T+ZKxjKsiFA+NIODgyv9zJqXl6fenVapCPfs2YO0tDSv3FjOvnm9G/Xr11ePUa3q2ya951E5YS4wMBChoaHVexPkspYtWwIAmjZtWmnZsWPH1ORX2Y7r16/3yuOSL1++jBs3bgBwXEQ0bNgQkyZNqnBIxKpVq1BSUoKnnnrKbuLkyjevdevWRXh4OAD787h+/Xr1sTKPK1asqPL9KOuLiIiosh3pR/lMA6rejl27dkWTJk1w+/Zt/P3vf/fKfYOSNMXGxjptO3bsWDRp0gSLFi3Cyy+/XOUhRq4UEe6YR8aD55kxV3r22Wer/HKnPOZKxjKsiEhISIDVakVWVlaFK1CICKZPn64eR6p8g7JhwwaMGTNGvaSWtygoKFCPAXf0LfLdUgJNmQt79J5Hpb23H2tc2ygnPf7yqie5ubnqMaHAnZMz169fjzFjxnhugC4qfxm+uLg4l16TnZ2NefPmISEhAe+9957dNh07doSvry/OnTtX5d1yExMTAVSex+PHj+PFF18EUHapzeDgYFy/fh1fffUVRo8e7bA/5UpOXbt2dem9UPW1adNG/bz65Xb86KOP1JPwlTabN29GeHi4wxOXjaQcvuHKvmHdunUoLCxEWloaXnrpJQwYMADZ2dl22yrvXfn7tEfveSwpKcG5c+fg5+en6xdmVDWz5Urvv/8+evfu7fCXO3uYKxnImNtTlJk6daoAkIkTJ8qNGzdk+/btMmDAAOnevbtMmjRJAMgf//hHOXHihNx7773y448/Vmt97ni76enp6g1HXLnj4tGjRwWAPP74407bvvLKKwJA/vKXv1TZTs95nD9/vgCQuXPnOh0f6aeoqEi6desmAGThwoWSnZ0tq1evlsjISJk0aZK67JNPPpFVq1ZJ3759pbi4uFrrdEc8KH8/bdq0cal9SUmJ9O/fX+Lj4yU3N7fKtv379xcAsnPnTodtTp06JSEhIRIcHCxbtmyRa9euyfz58+Wee+6Rl156SUJCQsTX11cuX74sTz75pMyePbvKdSYmJgoASU5Odun9kD7Wr1+v3pDq5MmTcuzYMXnyySelWbNm8qc//UkASK9evSQrK0s6deokmzZtqvY69Y6H0tJS8fPzEwCycuVKTa99+umnBYBMmjTJ7vLbt2+Lr6+v+Pn5SVFRkcN+9JxHZV/Xp08fTe+Fqs8suVJmZqZ07dpV8vPz1edeeOEFASD79+932DdzJeMYfsfql19+Wdq3by9169aViIgIef3116WwsFBKS0vl1VdflcjISOnWrVuViYOr3BEYixYtEgASHh7uUnstRYQSdEOHDnXaVq95HDp0qACQr7/+2qX3Q/q5efOmjBs3Tlq1aiUAJD4+Xj766CMRKftwnTx5sjRr1kyGDx9e7Z2EiHviYezYseqHtCsmT54siYmJcuvWLadtlQ/tBQsWVNnuu+++k/79+0twcLD4+PjI8OHDZd++fSIicuDAAXn44YflnnvukWeffVYKCwsd9lNcXCwNGjSQxo0by88//+zS+yH9bNiwQWJjYyUwMFAaNWokU6ZMkStXroiIyL/+9S/p3bu3NG/eXJYuXarL+vSOhyNHjqhJ0/nz5x22O378uFy/fr3Cc8qd60NCQhy+Tilwd+/eXeU49JrHBQsWCAD561//WmU7cg8z5EpPPPGEbNy4scJzrhQRzJWMY3gR4UnuCIwnn3xSAMgf/vAHl9orRcSECROcti0tLZWYmBjx9fWVzMzM6g7VqaysLPH19ZW4uDi3r4uM5454iIqKEgCyfv16p23/9Kc/yYMPPigFBQXqcx988IGkp6fbbf/DDz+Ir6+vdOnSRbfxVmXjxo0CwOmvFVQ76B0Pq1atEgDSqVMnh21SU1MFgPj7+1f4jFcSrsDAQIevXbNmjQCQWbNm6TpuRzp37iwBAQGSlZXlkfWRcYzKlUJCQtTC29G/n376qdLrmCsZx9A7VtdU3333nXp9YOXGcfauO1wVceHGVVarFbNnz0ZRURFWrlypfaAaLV++HEVFRXjuuefcvi6qHUpLS3H48GGUlJQgKysLJ0+ehJ+fH4YMGVLl65YvX47t27fjP//5T4WT3JKTkx1e+SU8PBwTJ05ERkYG9u3bp+v7sOcf//gHfHx8GA/kskuXLqmXmlQu71rVvkG5ussvrzOv3FW3qjgaO3Ys2rVrh5UrV6KwsLBa43Zmz549OHToEMaPH+/1l5gm76E1V7px4wak7Mtt9d9vfvMbAGV3uhYRuyc6M1cykJEVjKfp8XaHDRumHhd669Yt8fHxkaCgoCqPSy3vm2++EQAyYsQIsdlsTtsXFxdLu3btpG3bti61v1ulpaXSpk0badq0abWPtaeaobrxkJmZKa1bt1aPC/3yyy8FgAwbNqzK123ZskV8fHyke/fukpCQIN27d5eIiAgJDAwUABV+mfilU6dOiY+Pj8NjxfVy5swZsVqtkpSU5Nb1kPeobjy8+eabAkD8/PwkJydHevXqJQBkz549Dl9TWFgocXFxMm3aNCkpKRERkW3btklgYKA0b95cTp8+XeU6V65ceVfnXGj1u9/9TgDI999/79b1kHfwhlxJMWrUKKdxJMJcySgsIjS4fPmy+pNat27dJDk5WQDI3/72N6evffHFFyU6OlqsVqvaR0REhCQkJMi5c+eqfO3y5csFgHz++efVGn9VPv/8c7FarZWOR6Taq7rxsHbtWvVvedq0aTJ37lyxWq1Oj9FWjiW19y8qKsrpeidMmCABAQFu/dl61qxZEhoa6jQ2qfaobjx06NBB/Tu+cOGC1K1bVx5++GGnr8vJyZHJkydLSEiI9OzZU2JjY2XevHly48YNp68tLi6W8PBwiY+Pr9bYq6IcujF9+nS3rYO8i5G5kmL+/PkSGRmp9hMYGCj9+vWr8gIczJU8j0WEBvn5+eLv7y+hoaGyf/9+GTRokCQkJLi16hUpu4LNyJEjpX379pKTk6N7/zk5ORIdHe30ygZUu1Q3HrZv365e3eXIkSPSrFkzee2113QanWPXrl2T6OhoGTt2rFv6P3jwoDRs2FB27drllv7JO1U3HgYMGCAA5OOPP5a5c+dKWFiYXL16VafRObZ7925p0KCBbieY/9Lo0aNl0KBBUlpa6pb+yfswV7KPuVJlLCI0ev/998Xf318aN24sv//97+XmzZs6jMy5wsJCGThwoAwZMkTXD/PS0lJJTEyURx99VLc+qWbQIx6mTJmiXnHjrbfe8liicfHiRWnVqpXTKzVpdf36dQkPD5clS5bo2i95v+rGwzfffCMtW7YUPz8/GTZsmJw6dUqnkTm3detWCQgI0OXKPOUtWLBAoqKiPLafI+/AXKky5kr2WURcOMO3lrBYLC6d0Oyt8vPz8cgjj2DAgAHqjbOqa8GCBfjyyy+xdevWSif3Ue1W0+Ph9OnTGDx4MFavXo3evXvr0ufQoUPRrl07hze9o9qrpsfDf//7Xzz//PM4cuQIGjZsWO3+du3ahTFjxmDHjh2Ijo7WYYRUU9T0WGCu5DksIohMivFAdAfjgagMY4FcxUu8EhERERGRJiwiiIiIiIhIk2odzmSxWPQcC9VSZvlZlPFAzjAWiO5gPBCVqamxwHMiiEyK8UB0B+OBqAxjgVzFw5mIiIiIiEgTFhFERERERKQJiwgiIiIiItLEa4qIlJQUjB8/HjExMWjYsCE6deqEl156CSUlJUYPzTCcE3O6ffs25syZg4EDB6Jx48Zo2bIlBg4ciIMHDxo9NMNwTszrzJkzePrppxEfH4/AwEBERUVhwoQJyMzMNHpoRB7HvIC8iVcUEVu3bsXw4cNx/PhxPPfcc1i9ejX69u2Lt99+G/369UNubq7RQ/Q4zok5FRUVYdSoUVi4cCFiYmLwwQcfYM6cOcjKykJ8fDxWrVpl9BA9jnNiXhcuXMDgwYOxceNGDBs2DGvWrMGECROwfft2dOnSBRkZGUYP0VDFxcVYtWoVYmJiUFpaavRwyM2YF1TtzJkzePzxx/HOO+8YPRTzEIMdOHBAAgICJD4+XoqLiyssW7dunQCQCRMm6LIuL3i7LvHknJB3GT9+vACQ//znPxWeLywslK5du4qfn58cPXpUl3XVlHjw5JyQ98jNzZXo6GgJCgqSCxcuVFh27tw5adCggURFRUl+fr4u66sp8ZCdnS2bNm2SOXPmSPPmzQWAAKi0r6DahblSZaWlpXLkyBFZvny5DB06VI2FV155xeihmYbhfykJCQkCQD744INKy2w2m7Rq1UoASHp6erXXVVMCw5NzQt7jq6++EgASERFhd/ny5csFgCQmJuqyvpoQD56eE/Ief/7znwWATJ482e7yCRMmCACZP3++LuurCfHwr3/9S02UGjZsqO4LWETUfsyVKuvYsaP691/+MYsIzzH0cKYTJ04gJSUFANC1a9dKyy0WC7p06QIA2Lhxo0fHZhTOiXmtWLECABAXF2d3ubLdt27dipycHI+Ny0icE/NasmQJACA2NtbucjN+Dvbv3x+pqanYuXMnrl69ilGjRhk9JPIA5gX2rVixAqmpqTh+/DjS0tKMHo4p+Ri58m3btqmPW7RoYbdN8+bNAQA7duzwyJiMxjkxJ5vNhi1btgAAwsLC7LZR/h5sNhtSU1MxcuRIj43PCJwT8zp8+DCuXLkC4M7n3S8pz+/duxeZmZkICQnx2PiMEhoaitDQUKOHQR7GvMC+8l8u8UskYxj6S8TRo0fVxwEBAXbbKM9nZGSY4g6KnBNzunTpEm7cuAHA8XavX7+++vjIkSMeGZeROCfmVX5bctuT2TEvIG9laBFx/vz5skFYrahXr57dNkpg2Gw2XLt2zWNjMwrnxJzOnj2rPvb397fbpvzOQ0muazPOiXkpn4MA4OfnZ7cNtz2ZBfMC8laGFhHKB3+dOnUctim/7OrVq24fk9E4J+ZU/pr3Vqv9sCy/3c2wk+CcmJcr277889z2VJsxLyBvZWgRUVhY6LSN2ZIEzok5ubLdAcDHp+w0JjNsd86JefFzkOgOxgN5K0OLiKqqaoXFYlEf5+XluXM4XoFzYk6ubHfgzrY3w3bnnJiX1s/Bn3/+2Z3DITIU8wLyVoYWEcHBwU7b2Gw29XHjxo3dORyvwDkxJ1e2OwD1rrRm2O6cE/Nq0qSJ0zblPweDgoLcOZwagSfT1l7MC7RhLHiOVxQRxcXFDtuUX+ZqUlGTcU7Mqfx2VJJie5QdhRm2O+fEvFzZ9iUlJXbbmxUTp9qLeYE2jAXPMbSIKP9tk6PguH37tvrYDNcB55yYU/kP/aKiIrttyh+yYYadBOfEvLR+DnLbM3FjSisJAAAMSklEQVSqzZgXaMNY8BxDi4iYmBj1cW5urt02SpIQEhLi8KZDtQnnxJzCw8PRqFEjAI6PZy3/fPm/k9qKc2JeHTp0UB87+hwsv+3LtzcrJk61F/MCbRgLnmNoETFo0CD1cflL+pV3/fp1AMCQIUMqnDhUW3FOzMlisWDo0KEAHG/38lfcKP93UltxTswrNjZWTYSysrLstlE+B8PDw3Hfffd5bGzeiolT7cW8QBvGgucY/kuEcgv3M2fO2G2jPP/ggw96bFxG4pyYV//+/QFUvMlaecp2j4iIQGRkpMfGZSTOiTlZLBb1883R56DyNzFgwACPjcubMXGqvZgXaMNY8BxDiwgAGDNmDABg06ZNlZadPXsWhw4dQmBgoPqNpBlwTsxp6NChaNCgAfbv349Lly5VWv7ll18CAJKSkjw9NMNwTsxr1KhRAIDk5OQKV54Byk6qTk5OrtDO7Jg41W7MC1zHWPAgMVheXp60b99eAMjnn3+uPn/r1i3p27evAJBFixbpsi4veLsu8eSckHf5xz/+IQBkwIABkpubqz7/6aefCgBp27at5OXl6bKumhIPnpwT8i7jxo0TADJz5swKz0+bNk0ASFJSkm7rqgnxkJubK6mpqZKamipbtmyRzp07CwABIL///e/l3//+t6Smpsr3339v9FBJZ8yVKjt69KgaD6+//roaCzExMfLWW29JSkqKpKamSn5+vtFDrbW84i/lypUr0qtXL7FarTJmzBiZMWOGREdHi7+/v67Jck0JDBHPzQl5n6VLl4qvr6+0b99epk+fLqNHjxYA8sADD8iFCxd0W09NigdPzQl5l6KiIpkyZYq6rWfNmqUmTM8884wUFBTotq6aEA8ZGRlqolTVv4kTJxo9VHID5koVJSUluRQPp0+fNnqotZZFxDt+97HZbFi9ejUuXrwIAKhfvz4ee+wxNGvWTLd1WCyWGvUzlyfmhLzTDz/8gI8//lg9jKNr165ITEyE1arfEYg1LR48MSfknXbu3Im0tDQAZXfvHT58ODp27KjrOmpaPJA5MVcib+I1RYQnMDCI7mA8EN3BeCAqw1ggV/ErPCIiIiIi0oRFBBERERERacIigoiIiIiINGERQUREREREmrCIICIiIiIiTVhEEBERERGRJiwiiIiIiIhIExYRRERERESkCYsIIiIiIiLShEUEERERERFpwiKCiIiIiIg0YRFBRERERESasIggIiIiIiJNWER4sZSUFIwfPx4xMTFo2LAhOnXqhJdeegklJSVGD42IiAxy5swZPP3004iPj0dgYCCioqIwYcIEZGZmGj00IjIRrysicnJy8Nprr2HMmDFGD8VQW7duxfDhw3H8+HE899xzWL16Nfr27Yu3334b/fr1Q25urtFDJA9ITU1Fnz59sG/fPqOH4jU4J+ZUXFyMVatWISYmBqWlpUYPxzAXLlzA4MGDsXHjRgwbNgxr1qzBhAkTsH37dnTp0gUZGRlGD5E8gLlSZWfOnMHjjz+Od955x+ihmIaP0QMAyj4U9+7di+3bt+Pjjz9Gfn4++vfvb/SwDHPw4EGMHDkSXbp0QVpaGnx8yjbTI488gj59+mDs2LF49tlnsWrVKoNHSnorLCzE/v37sXfvXnz00Uc4fPgwACAvL8/gkRmHc2JeP/30E/bu3Yv09HR8+OGHuHz5MgBARAwemTHy8vKQmJiI7OxsHD58GL/61a8AAMOHD8f48eNx3333Ydy4ccjIyIC/v7/BoyW9MVeqyGaz4bvvvsO+ffvw2WefYdOmTQCA1q1bGzwy8zC8iHjuueewePFiAEB4eDjq1q1r8IiMN3v2bOTn5+Opp55SCwjF6NGjMXv2bKxevRpTpkzB/fffb9AoSW9Xr15FWFgYAMBqtSIqKsrgERmPc2Je69atw29+8xsAQMOGDdGkSRODR2S8hQsX4sSJE5g8ebJaQChat26NkSNHYvXq1Vi4cCHmzJlj0CjJHZgrVda5c2ccPXoUANCxY0eDR2NOhh/ONHXqVKSmpmLv3r04d+4cIiMjjR6SoU6cOIGUlBQAQNeuXSstt1gs6NKlCwBg48aNHh0buVeTJk2QmpqK1NRU/O9//8OCBQuMHpLhOCfm1b9/f6SmpmLnzp24evUqRo0aZfSQDLdkyRIAQGxsrN3l3DfUXsyVKluxYgVSU1Nx/PhxpKWlGT0cUzL8l4jIyEgGQznbtm1TH7do0cJum+bNmwMAduzY4ZExkWf4+vqiX79+Rg/Dq3BOzCs0NBShoaFGD8NrHD58GFeuXAFwZx/wS8rze/fuRWZmJkJCQjw2PnIv5kqVxcXFqY9zcnIMHIl5Gf5LBFWk/DQHAAEBAXbbKM9nZGSY9thgIiIzOXLkiPrY0b6hfv36dtsTEbkDiwgvc/78eQBlx3/Xq1fPbhtlB2Kz2XDt2jWPjY2IiIyh7BsAwM/Pz26b8sXFjRs33D4mIjI3FhFeRvngr1OnjsM25ZddvXrV7WMiIiJjlb8HhNVqf9dd/nl+wURE7sYiwssUFhY6bVO+iOCOgoio9uO+gYi8DYsIL1PVLxAKi8WiPua18omIaj+t+4aff/7ZncMhIvLeIsKsJwwHBwc7bWOz2dTHjRs3dudwyEuYNR6qwjkxLzNue1fuk1F+3xAUFOTO4ZCXMGMsOMM58RwWEV5GKSKKi4sdtim/zJWig2o+s8ZDVTgn5mXGbV/+s760tNRum5KSErvtqfYyYyw4wznxHBYRXqb8t02OConbt2+rj3kdcHMwazxUhXNiXmbc9lr3DSwizMGMseAM58RzWER4mZiYGPVxbm6u3TbKsa4hISEObzpEtYtZ46EqnBPzMuO279Chg/rY0b6h/Dly5dtT7WXGWHCGc+I5LCK8zKBBg9TH5S/pV97169cBAEOGDKlwIh3VXmaNh6pwTszLjNs+NjZW/dIoKyvLbhtl3xAeHo777rvPY2Mj45gxFpzhnHgOiwgvExMTgxYtWgAAzpw5Y7eN8vyDDz7osXGRscwaD1XhnJiXGbe9xWJRP/Md7RvOnj0LABgwYIDHxkXGMmMsOMM58RwWEV5ozJgxAIBNmzZVWnb27FkcOnQIgYGBGDp0qKeHRgYxczw4wjkxL7Nu+1GjRgEAkpOTK1yJCSg7qTo5OblCO6r9zBoLVeGceI6P0QO4dOmS+q3K5cuX1ccnT57EvHnzEBcXh4CAAERFRSEsLMzIoXrMn//8ZyQnJ2Px4sVITEzEsGHDAJQdB/vEE0/AZrNhwYIFCA0NNXikpLddu3apV1hZs2aN+vyiRYtw5coVtGnTBvXq1UN8fLxRQ/Q4zok55eXl4dtvvwUAFBUVYceOHeqyWbNm4cEHH0RISAiaNm2K9u3bGzVMjxo5ciTGjRuHtWvXYvbs2fjb3/6mLnvhhRdw4sQJJCUl4aGHHjJwlOQOzJUqO3bsmHrY99dff60+/8UXX+Cee+5B586dUadOHfTo0QP+/v5GDbN2E4O99957AsDpv/fff7/a6/KCt+uyK1euSK9evcRqtcqYMWNkxowZEh0dLf7+/rJo0SKjh0duEhIS4jQWWrdurcu6ako8eHJOyHtkZGS4tG+YOHGiLuurKfFQVFQkU6ZMEQDywAMPyKxZs6Rv374CQJ555hkpKCgweojkBsyVKktKSnJpTk6fPm30UGsti4h5fvexWCw16mcum82G1atX4+LFiwCA+vXr47HHHkOzZs0MHhnVBjUtHojcqabFw86dO5GWlgag7G7Ww4cPR8eOHQ0eFdUGNS0WyDgsIohMivFAdAfjgagMY4Fc5bUnVhMRERERkXdiEUFERERERJqwiCAiIiIiIk1YRBARERERkSYsIoiIiIiISBMWEUREREREpAmLCCIiIiIi0oRFBBERERERaWKqm80REREREVH18ZcIIiIiIiLShEUEERERERFpwiKCiIiIiIg0YRFBRERERESasIggIiIiIiJNWEQQEREREZEmLCKIiIiIiEgTFhFERERERKQJiwgiIiIiItKERQQREREREWnCIoKIiIiIiDRhEUFERERERJqwiCAiIiIiIk1YRBARERERkSYsIoiIiIiISBMWEUREREREpAmLCCIiIiIi0oRFBBERERERacIigoiIiIiINGERQUREREREmrCIICIiIiIiTVhEEBERERGRJiwiiIiIiIhIExYRRERERESkyf8Dbt7lzkeSPAQAAAAASUVORK5CYII=).\n"
      ]
    },
    {
      "cell_type": "markdown",
      "source": [
        "É importante notar que a implementação da porta oráculo não faz parte do algoritmo de Deutsch em si. Aqui, estamos apenas demonstrando uma forma de preparar a entrada, implementando um circuito que atua como a porta oráculo(phase)."
      ],
      "metadata": {
        "id": "mj8FUg61IEUd"
      }
    },
    {
      "cell_type": "code",
      "source": [
        "def deutsch_function(case: int):\n",
        "\n",
        "    if case not in [1, 2, 3, 4]:\n",
        "        raise ValueError(\"`case` must be 1, 2, 3, or 4.\")\n",
        "\n",
        "    # criando o circuito\n",
        "    f = QuantumCircuit(2)\n",
        "\n",
        "    ##### funçao ########\n",
        "    if case in [2, 3]:\n",
        "        f.cx(0, 1)\n",
        "    if case in [3, 4]:\n",
        "        f.x(1)\n",
        "    ###################\n",
        "    # retorna o circuito\n",
        "    return f"
      ],
      "metadata": {
        "id": "-kvh59A-HxkT"
      },
      "execution_count": null,
      "outputs": []
    },
    {
      "cell_type": "markdown",
      "source": [
        "Para visualizar o circuito, farremos :"
      ],
      "metadata": {
        "id": "RAp5nVsPImA_"
      }
    },
    {
      "cell_type": "code",
      "source": [
        "# Para f1\n",
        "deutsch_function(1).draw()"
      ],
      "metadata": {
        "id": "bKXAifl3I3xg"
      },
      "execution_count": null,
      "outputs": []
    },
    {
      "cell_type": "code",
      "source": [
        "# Para f2\n",
        "deutsch_function(2).draw()"
      ],
      "metadata": {
        "id": "OzJH4UdpI3ee"
      },
      "execution_count": null,
      "outputs": []
    },
    {
      "cell_type": "code",
      "source": [
        "# Para f3\n",
        "deutsch_function(3).draw()"
      ],
      "metadata": {
        "id": "CF8dFQJDI3Dx"
      },
      "execution_count": null,
      "outputs": []
    },
    {
      "cell_type": "code",
      "source": [
        "# Para f4\n",
        "deutsch_function(4).draw()"
      ],
      "metadata": {
        "id": "o-z12aEJIjSi"
      },
      "execution_count": null,
      "outputs": []
    },
    {
      "cell_type": "markdown",
      "source": [
        "Relemebra essa funçao deve representar o oraculo ou uma caixa preta. Que é um funçao que nãpo sabemos como contruir ou qual a função"
      ],
      "metadata": {
        "id": "YUV6r_AnJSQc"
      }
    },
    {
      "cell_type": "markdown",
      "source": [
        "## Algorimo de deutsch"
      ],
      "metadata": {
        "id": "3FtsdXJUJqDm"
      }
    },
    {
      "cell_type": "code",
      "source": [
        "n = 2 # numero de qubits\n",
        "\n",
        "qc = QuantumCircuit(n, n -1)\n",
        "qc.draw()"
      ],
      "metadata": {
        "id": "ZkYjWg5bIs6m"
      },
      "execution_count": null,
      "outputs": []
    },
    {
      "cell_type": "code",
      "source": [
        "# Preparar o segundo qubit |1>\n",
        "qc.\n",
        "qc.barrier()\n",
        "qc.draw()"
      ],
      "metadata": {
        "id": "XBnVgCyxYh-r"
      },
      "execution_count": null,
      "outputs": []
    },
    {
      "cell_type": "code",
      "source": [
        "# Transformar par ao estado  |+> e |- >\n",
        "qc.\n",
        "qc.\n",
        "qc.barrier()\n",
        "qc.draw()"
      ],
      "metadata": {
        "id": "jMquL2PFYv_M"
      },
      "execution_count": null,
      "outputs": []
    },
    {
      "cell_type": "code",
      "source": [
        "# Aplicar o oraculo\n",
        "qc.compose(deutsch_function(4), inplace=True)\n",
        "qc.barrier()\n",
        "qc.draw()"
      ],
      "metadata": {
        "id": "xx4aXVh3Y6c9"
      },
      "execution_count": null,
      "outputs": []
    },
    {
      "cell_type": "code",
      "source": [
        "# Medir na base  |+> e |- >\n",
        "qc.\n",
        "qc.\n",
        "qc.draw()"
      ],
      "metadata": {
        "id": "BOZVQe3FY6VR"
      },
      "execution_count": null,
      "outputs": []
    },
    {
      "cell_type": "code",
      "source": [
        "result = AerSimulator().run(qc, shots=1, memory=True).result()\n",
        "measurements = result.get_memory()\n",
        "if measurements[0] == \"0\":\n",
        "    print( \"Constante\")\n",
        "else: print(\"Balanceado\")"
      ],
      "metadata": {
        "id": "CKQfhLpxeZVq"
      },
      "execution_count": null,
      "outputs": []
    },
    {
      "cell_type": "markdown",
      "source": [
        "## O algoritmo Deutsch-Jozsa"
      ],
      "metadata": {
        "id": "nKteYbSEfRGX"
      }
    },
    {
      "cell_type": "markdown",
      "source": [
        "Faça a implementaçao do algorimo de D-J.\n",
        "Utiliza a fonte de referencia :https://quantum.cloud.ibm.com/learning/pt/courses/fundamentals-of-quantum-algorithms/quantum-query-algorithms/deutsch-jozsa-algorithm"
      ],
      "metadata": {
        "id": "2jgV63KXfuqw"
      }
    },
    {
      "cell_type": "code",
      "source": [],
      "metadata": {
        "id": "rEN1o2lzf0oV"
      },
      "execution_count": null,
      "outputs": []
    }
  ]
}